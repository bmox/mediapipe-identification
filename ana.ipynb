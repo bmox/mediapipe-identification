{
 "cells": [
  {
   "cell_type": "code",
   "execution_count": null,
   "metadata": {},
   "outputs": [],
   "source": [
    "!pip install pandas"
   ]
  },
  {
   "cell_type": "code",
   "execution_count": 18,
   "metadata": {},
   "outputs": [],
   "source": [
    "import pandas as pd\n",
    "\n",
    "data_df = pd.read_csv('data.csv')\n",
    "unknown_df = pd.read_csv('unknown.csv')\n",
    "video_df = pd.read_csv('video.csv')"
   ]
  },
  {
   "cell_type": "code",
   "execution_count": 19,
   "metadata": {},
   "outputs": [
    {
     "name": "stdout",
     "output_type": "stream",
     "text": [
      "len of known faces: 6617\n",
      "Len unknown_df: 3063\n"
     ]
    }
   ],
   "source": [
    "known_face_count=len(data_df)+len(video_df)\n",
    "print(f\"len of known faces: {known_face_count}\")\n",
    "print(f\"Len unknown_df: {len(unknown_df)}\")\n"
   ]
  },
  {
   "cell_type": "code",
   "execution_count": 20,
   "metadata": {},
   "outputs": [
    {
     "data": {
      "text/plain": [
       "3000"
      ]
     },
     "execution_count": 20,
     "metadata": {},
     "output_type": "execute_result"
    }
   ],
   "source": [
    "known_face= pd.concat([data_df,video_df], ignore_index=True)\n",
    "known_face=known_face.sample(frac=1).reset_index(drop=True)\n",
    "known_face=known_face[:3000]\n",
    "len(known_face)"
   ]
  },
  {
   "cell_type": "code",
   "execution_count": 21,
   "metadata": {},
   "outputs": [
    {
     "data": {
      "text/plain": [
       "3000"
      ]
     },
     "execution_count": 21,
     "metadata": {},
     "output_type": "execute_result"
    }
   ],
   "source": [
    "#shuffle the data and take 3000 samples from  unknown_df \n",
    "unknown_df=unknown_df.sample(frac=1).reset_index(drop=True)\n",
    "unknown_df=unknown_df[:3000]\n",
    "len(known_face)"
   ]
  },
  {
   "cell_type": "code",
   "execution_count": 24,
   "metadata": {},
   "outputs": [],
   "source": [
    "df= pd.concat([known_face,unknown_df], ignore_index=True)\n",
    "df[\"face_data\"] = df[\"face_data\"].apply(eval)\n",
    "df = df.sample(frac=1).reset_index(drop=True)\n",
    "df = df.sample(frac=1).reset_index(drop=True)\n"
   ]
  },
  {
   "cell_type": "code",
   "execution_count": 25,
   "metadata": {},
   "outputs": [
    {
     "data": {
      "text/html": [
       "<div>\n",
       "<style scoped>\n",
       "    .dataframe tbody tr th:only-of-type {\n",
       "        vertical-align: middle;\n",
       "    }\n",
       "\n",
       "    .dataframe tbody tr th {\n",
       "        vertical-align: top;\n",
       "    }\n",
       "\n",
       "    .dataframe thead th {\n",
       "        text-align: right;\n",
       "    }\n",
       "</style>\n",
       "<table border=\"1\" class=\"dataframe\">\n",
       "  <thead>\n",
       "    <tr style=\"text-align: right;\">\n",
       "      <th></th>\n",
       "      <th>face_data</th>\n",
       "      <th>id</th>\n",
       "    </tr>\n",
       "  </thead>\n",
       "  <tbody>\n",
       "    <tr>\n",
       "      <th>0</th>\n",
       "      <td>[3, 2, 252, 253, 253, 254, 0, 252, 3, 4, 254, ...</td>\n",
       "      <td>1</td>\n",
       "    </tr>\n",
       "    <tr>\n",
       "      <th>1</th>\n",
       "      <td>[2, 5, 1, 1, 5, 2, 5, 252, 7, 255, 253, 1, 255...</td>\n",
       "      <td>0</td>\n",
       "    </tr>\n",
       "    <tr>\n",
       "      <th>2</th>\n",
       "      <td>[255, 2, 1, 3, 2, 253, 3, 253, 255, 0, 255, 6,...</td>\n",
       "      <td>0</td>\n",
       "    </tr>\n",
       "    <tr>\n",
       "      <th>3</th>\n",
       "      <td>[2, 253, 252, 253, 253, 254, 0, 254, 8, 0, 252...</td>\n",
       "      <td>0</td>\n",
       "    </tr>\n",
       "    <tr>\n",
       "      <th>4</th>\n",
       "      <td>[2, 2, 253, 0, 253, 253, 1, 253, 0, 1, 253, 2,...</td>\n",
       "      <td>1</td>\n",
       "    </tr>\n",
       "  </tbody>\n",
       "</table>\n",
       "</div>"
      ],
      "text/plain": [
       "                                           face_data  id\n",
       "0  [3, 2, 252, 253, 253, 254, 0, 252, 3, 4, 254, ...   1\n",
       "1  [2, 5, 1, 1, 5, 2, 5, 252, 7, 255, 253, 1, 255...   0\n",
       "2  [255, 2, 1, 3, 2, 253, 3, 253, 255, 0, 255, 6,...   0\n",
       "3  [2, 253, 252, 253, 253, 254, 0, 254, 8, 0, 252...   0\n",
       "4  [2, 2, 253, 0, 253, 253, 1, 253, 0, 1, 253, 2,...   1"
      ]
     },
     "execution_count": 25,
     "metadata": {},
     "output_type": "execute_result"
    }
   ],
   "source": [
    "df.head()"
   ]
  },
  {
   "cell_type": "code",
   "execution_count": 26,
   "metadata": {},
   "outputs": [
    {
     "data": {
      "text/html": [
       "<div>\n",
       "<style scoped>\n",
       "    .dataframe tbody tr th:only-of-type {\n",
       "        vertical-align: middle;\n",
       "    }\n",
       "\n",
       "    .dataframe tbody tr th {\n",
       "        vertical-align: top;\n",
       "    }\n",
       "\n",
       "    .dataframe thead th {\n",
       "        text-align: right;\n",
       "    }\n",
       "</style>\n",
       "<table border=\"1\" class=\"dataframe\">\n",
       "  <thead>\n",
       "    <tr style=\"text-align: right;\">\n",
       "      <th></th>\n",
       "      <th>id</th>\n",
       "    </tr>\n",
       "  </thead>\n",
       "  <tbody>\n",
       "    <tr>\n",
       "      <th>count</th>\n",
       "      <td>6000.000000</td>\n",
       "    </tr>\n",
       "    <tr>\n",
       "      <th>mean</th>\n",
       "      <td>0.500000</td>\n",
       "    </tr>\n",
       "    <tr>\n",
       "      <th>std</th>\n",
       "      <td>0.500042</td>\n",
       "    </tr>\n",
       "    <tr>\n",
       "      <th>min</th>\n",
       "      <td>0.000000</td>\n",
       "    </tr>\n",
       "    <tr>\n",
       "      <th>25%</th>\n",
       "      <td>0.000000</td>\n",
       "    </tr>\n",
       "    <tr>\n",
       "      <th>50%</th>\n",
       "      <td>0.500000</td>\n",
       "    </tr>\n",
       "    <tr>\n",
       "      <th>75%</th>\n",
       "      <td>1.000000</td>\n",
       "    </tr>\n",
       "    <tr>\n",
       "      <th>max</th>\n",
       "      <td>1.000000</td>\n",
       "    </tr>\n",
       "  </tbody>\n",
       "</table>\n",
       "</div>"
      ],
      "text/plain": [
       "                id\n",
       "count  6000.000000\n",
       "mean      0.500000\n",
       "std       0.500042\n",
       "min       0.000000\n",
       "25%       0.000000\n",
       "50%       0.500000\n",
       "75%       1.000000\n",
       "max       1.000000"
      ]
     },
     "execution_count": 26,
     "metadata": {},
     "output_type": "execute_result"
    }
   ],
   "source": [
    "df.describe()"
   ]
  },
  {
   "cell_type": "code",
   "execution_count": 27,
   "metadata": {},
   "outputs": [
    {
     "data": {
      "text/plain": [
       "6000"
      ]
     },
     "execution_count": 27,
     "metadata": {},
     "output_type": "execute_result"
    }
   ],
   "source": [
    "len(df)"
   ]
  },
  {
   "cell_type": "code",
   "execution_count": 28,
   "metadata": {},
   "outputs": [
    {
     "name": "stdout",
     "output_type": "stream",
     "text": [
      "<class 'pandas.core.frame.DataFrame'>\n",
      "RangeIndex: 6000 entries, 0 to 5999\n",
      "Data columns (total 2 columns):\n",
      " #   Column     Non-Null Count  Dtype \n",
      "---  ------     --------------  ----- \n",
      " 0   face_data  6000 non-null   object\n",
      " 1   id         6000 non-null   int64 \n",
      "dtypes: int64(1), object(1)\n",
      "memory usage: 93.9+ KB\n"
     ]
    }
   ],
   "source": [
    "df.info()"
   ]
  },
  {
   "cell_type": "code",
   "execution_count": 29,
   "metadata": {},
   "outputs": [
    {
     "data": {
      "text/plain": [
       "id\n",
       "1    3000\n",
       "0    3000\n",
       "Name: count, dtype: int64"
      ]
     },
     "execution_count": 29,
     "metadata": {},
     "output_type": "execute_result"
    }
   ],
   "source": [
    "df[\"id\"].value_counts()"
   ]
  },
  {
   "cell_type": "code",
   "execution_count": null,
   "metadata": {},
   "outputs": [],
   "source": [
    "!pip install scikit-learn"
   ]
  },
  {
   "cell_type": "code",
   "execution_count": 30,
   "metadata": {},
   "outputs": [],
   "source": [
    "from sklearn import svm\n",
    "from sklearn.model_selection import train_test_split\n",
    "from sklearn.metrics import accuracy_score\n",
    "import json\n",
    "import pickle\n",
    "from sklearn.metrics import classification_report"
   ]
  },
  {
   "cell_type": "code",
   "execution_count": 29,
   "metadata": {},
   "outputs": [
    {
     "name": "stdout",
     "output_type": "stream",
     "text": [
      "Collecting seaborn\n",
      "  Using cached seaborn-0.12.2-py3-none-any.whl (293 kB)\n",
      "Requirement already satisfied: matplotlib!=3.6.1,>=3.1 in d:\\download\\new_project\\myenv\\lib\\site-packages (from seaborn) (3.7.1)\n",
      "Requirement already satisfied: numpy!=1.24.0,>=1.17 in d:\\download\\new_project\\myenv\\lib\\site-packages (from seaborn) (1.24.3)\n",
      "Requirement already satisfied: pandas>=0.25 in d:\\download\\new_project\\myenv\\lib\\site-packages (from seaborn) (2.0.2)\n",
      "Requirement already satisfied: contourpy>=1.0.1 in d:\\download\\new_project\\myenv\\lib\\site-packages (from matplotlib!=3.6.1,>=3.1->seaborn) (1.0.7)\n",
      "Requirement already satisfied: pyparsing>=2.3.1 in d:\\download\\new_project\\myenv\\lib\\site-packages (from matplotlib!=3.6.1,>=3.1->seaborn) (3.0.9)\n",
      "Requirement already satisfied: pillow>=6.2.0 in d:\\download\\new_project\\myenv\\lib\\site-packages (from matplotlib!=3.6.1,>=3.1->seaborn) (9.5.0)\n",
      "Requirement already satisfied: fonttools>=4.22.0 in d:\\download\\new_project\\myenv\\lib\\site-packages (from matplotlib!=3.6.1,>=3.1->seaborn) (4.39.4)\n",
      "Requirement already satisfied: packaging>=20.0 in d:\\download\\new_project\\myenv\\lib\\site-packages (from matplotlib!=3.6.1,>=3.1->seaborn) (23.1)\n",
      "Requirement already satisfied: python-dateutil>=2.7 in d:\\download\\new_project\\myenv\\lib\\site-packages (from matplotlib!=3.6.1,>=3.1->seaborn) (2.8.2)\n",
      "Requirement already satisfied: kiwisolver>=1.0.1 in d:\\download\\new_project\\myenv\\lib\\site-packages (from matplotlib!=3.6.1,>=3.1->seaborn) (1.4.4)\n",
      "Requirement already satisfied: cycler>=0.10 in d:\\download\\new_project\\myenv\\lib\\site-packages (from matplotlib!=3.6.1,>=3.1->seaborn) (0.11.0)\n",
      "Requirement already satisfied: tzdata>=2022.1 in d:\\download\\new_project\\myenv\\lib\\site-packages (from pandas>=0.25->seaborn) (2023.3)\n",
      "Requirement already satisfied: pytz>=2020.1 in d:\\download\\new_project\\myenv\\lib\\site-packages (from pandas>=0.25->seaborn) (2023.3)\n",
      "Requirement already satisfied: six>=1.5 in d:\\download\\new_project\\myenv\\lib\\site-packages (from python-dateutil>=2.7->matplotlib!=3.6.1,>=3.1->seaborn) (1.16.0)\n",
      "Installing collected packages: seaborn\n",
      "Successfully installed seaborn-0.12.2\n"
     ]
    },
    {
     "name": "stderr",
     "output_type": "stream",
     "text": [
      "\n",
      "[notice] A new release of pip available: 22.3.1 -> 23.1.2\n",
      "[notice] To update, run: python.exe -m pip install --upgrade pip\n"
     ]
    }
   ],
   "source": [
    "!pip install seaborn"
   ]
  },
  {
   "cell_type": "code",
   "execution_count": 31,
   "metadata": {},
   "outputs": [],
   "source": [
    "import matplotlib.pyplot as plt\n",
    "import seaborn as sns\n",
    "#plotting the points between the df[\"face_data\"], df[\"id\"]\n"
   ]
  },
  {
   "cell_type": "code",
   "execution_count": 32,
   "metadata": {},
   "outputs": [
    {
     "data": {
      "image/png": "[encoded data removed]",
      "text/plain": [
       "<Figure size 1000x600 with 1 Axes>"
      ]
     },
     "metadata": {},
     "output_type": "display_data"
    }
   ],
   "source": [
    "import numpy as np\n",
    "sample_size = 1000  # Define the size of the sample\n",
    "sample = np.random.choice(df[\"face_data\"], size=sample_size, replace=False)  # Take a random sample from df[\"face_data\"]\n",
    "\n",
    "plt.figure(figsize=(10, 6))\n",
    "plt.hist(sample, bins=10)\n",
    "plt.xlabel(\"Face Data\")\n",
    "plt.ylabel(\"Frequency\")\n",
    "plt.title(\"Histogram of Sampled Face Data\")\n",
    "plt.show()\n"
   ]
  },
  {
   "cell_type": "code",
   "execution_count": 33,
   "metadata": {},
   "outputs": [
    {
     "name": "stdout",
     "output_type": "stream",
     "text": [
      "Classification Report:\n",
      "              precision    recall  f1-score      support\n",
      "0              0.995066  0.998350  0.996705   606.000000\n",
      "1              0.998311  0.994949  0.996627   594.000000\n",
      "accuracy       0.996667  0.996667  0.996667     0.996667\n",
      "macro avg      0.996688  0.996650  0.996666  1200.000000\n",
      "weighted avg   0.996672  0.996667  0.996667  1200.000000\n",
      "Accuracy:  0.9966666666666667\n",
      "Model saved as :blue[model.pkl] file\n"
     ]
    }
   ],
   "source": [
    "def run_model():\n",
    "    # Split the data into training and testing sets\n",
    "    X_train, X_test, y_train, y_test = train_test_split(df[\"face_data\"], df[\"id\"], test_size=0.2, random_state=42)\n",
    "    # Create the SVM model\n",
    "    clf = svm.SVC(kernel='linear')\n",
    "    # clf = svm.SVC(kernel='poly', degree=3)\n",
    "    # clf = svm.SVC(kernel='rbf')\n",
    "    # clf = svm.SVC(kernel='sigmoid')\n",
    "    # Train the model on the training set\n",
    "    clf.fit(list(X_train), list(y_train))\n",
    "    # Test the model on the testing set\n",
    "    y_pred = clf.predict(list(X_test))\n",
    "    # Calculate the accuracy of the model\n",
    "    acc = accuracy_score(list(y_test), y_pred)\n",
    "    #display accuracy\n",
    "    report_dict = classification_report(list(y_test), y_pred, output_dict=True)\n",
    "    report_df = pd.DataFrame(report_dict).transpose()\n",
    "    print(\"Classification Report:\")\n",
    "    print(report_df)\n",
    "    print(\"Accuracy: \",acc)\n",
    "    pickle.dump(clf, open('svm_model.pkl', 'wb'))\n",
    "    print('Model saved as :blue[model.pkl] file')\n",
    "\n",
    "unique_ids = df['id'].unique()\n",
    "if len(unique_ids) < 2:\n",
    "    print(\"Insufficient unique IDs to run the SVM multiclass model. At least two unique IDs are required.\")\n",
    "else:\n",
    "    run_model()"
   ]
  },
  {
   "cell_type": "code",
   "execution_count": 34,
   "metadata": {},
   "outputs": [],
   "source": [
    "import pickle\n",
    "with open(\"./svm_model.pkl\", \"rb\") as f:\n",
    "    svm_model = pickle.load(f)"
   ]
  },
  {
   "cell_type": "code",
   "execution_count": 35,
   "metadata": {},
   "outputs": [
    {
     "name": "stdout",
     "output_type": "stream",
     "text": [
      "Actual ID:  0\n",
      "Predicted ID:  0\n"
     ]
    }
   ],
   "source": [
    "person_id = svm_model.predict([df[\"face_data\"][300]])\n",
    "print(\"Actual ID: \", df[\"id\"][300])\n",
    "print(\"Predicted ID: \", person_id[0])\n",
    "\n"
   ]
  }
 ],
 "metadata": {
  "kernelspec": {
   "display_name": "myenv",
   "language": "python",
   "name": "python3"
  },
  "language_info": {
   "codemirror_mode": {
    "name": "ipython",
    "version": 3
   },
   "file_extension": ".py",
   "mimetype": "text/x-python",
   "name": "python",
   "nbconvert_exporter": "python",
   "pygments_lexer": "ipython3",
   "version": "3.10.9"
  },
  "orig_nbformat": 4
 },
 "nbformat": 4,
 "nbformat_minor": 2
}
