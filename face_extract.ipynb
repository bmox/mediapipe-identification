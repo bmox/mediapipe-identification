{
 "cells": [
  {
   "cell_type": "code",
   "execution_count": 1,
   "metadata": {},
   "outputs": [],
   "source": [
    "import cv2 \n",
    "import mediapipe as mp\n",
    "\n",
    "BaseOptions = mp.tasks.BaseOptions\n",
    "ImageEmbedder = mp.tasks.vision.ImageEmbedder\n",
    "ImageEmbedderOptions = mp.tasks.vision.ImageEmbedderOptions\n",
    "VisionRunningMode = mp.tasks.vision.RunningMode"
   ]
  },
  {
   "cell_type": "code",
   "execution_count": 2,
   "metadata": {},
   "outputs": [],
   "source": [
    "\n",
    "def image_resize(image, width = None, height = None, inter = cv2.INTER_AREA):\n",
    "    dim = None\n",
    "    (h, w) = image.shape[:2]\n",
    "    if width is None and height is None:\n",
    "        return image\n",
    "    if width is None:\n",
    "        r = height / float(h)\n",
    "        dim = (int(w * r), height)\n",
    "    else:\n",
    "        r = width / float(w)\n",
    "        dim = (width, int(h * r))\n",
    "    resized = cv2.resize(image, dim, interpolation = inter)\n",
    "    return resized\n"
   ]
  },
  {
   "cell_type": "code",
   "execution_count": 13,
   "metadata": {},
   "outputs": [],
   "source": [
    "\n",
    "BaseOptions = mp.tasks.BaseOptions\n",
    "ImageEmbedder = mp.tasks.vision.ImageEmbedder\n",
    "ImageEmbedderOptions = mp.tasks.vision.ImageEmbedderOptions\n",
    "VisionRunningMode = mp.tasks.vision.RunningMode\n",
    "\n",
    "new_options = ImageEmbedderOptions(\n",
    "    base_options=BaseOptions(model_asset_path='mobilenet_v3_large.tflite'),\n",
    "    l2_normalize=True,\n",
    "    quantize=True,\n",
    "    running_mode=VisionRunningMode.IMAGE)\n",
    "\n",
    "embedder=ImageEmbedder.create_from_options(new_options)\n",
    "def get_embadding(img):\n",
    "    mp_image = mp.Image(image_format=mp.ImageFormat.SRGB, data=img)\n",
    "    embedding_result = embedder.embed(mp_image)\n",
    "    embedding_list = embedding_result.embeddings[0].embedding.tolist()\n",
    "    return embedding_list\n",
    "\n",
    "import csv\n",
    "import os\n",
    "def save_face_data_to_csv(face_data, ids, filename):\n",
    "    if not isinstance(face_data, list):\n",
    "        print(\"Error: face_data must be a list.\")\n",
    "        return\n",
    "    file_exists = os.path.exists(filename)\n",
    "    with open(filename, 'a' if file_exists else 'w', newline='') as csvfile:\n",
    "        writer = csv.writer(csvfile)\n",
    "        if not file_exists:\n",
    "            writer.writerow([\"face_data\", \"id\"])\n",
    "        \n",
    "        writer.writerow([face_data, ids])\n",
    "    if file_exists:\n",
    "        pass \n",
    "        # print(f\"Face data appended to {filename} successfully.\")\n",
    "    else:\n",
    "        pass\n",
    "        # print(f\"Face data saved to {filename} successfully.\")\n",
    "    "
   ]
  },
  {
   "cell_type": "code",
   "execution_count": 14,
   "metadata": {},
   "outputs": [],
   "source": [
    "import mediapipe as mp\n",
    "from mediapipe.tasks import python\n",
    "from mediapipe.tasks.python import vision"
   ]
  },
  {
   "cell_type": "code",
   "execution_count": 15,
   "metadata": {},
   "outputs": [],
   "source": [
    "base_options = python.BaseOptions(model_asset_path='blaze_face_short_range.tflite')\n",
    "options = vision.FaceDetectorOptions(base_options=base_options)\n",
    "detector = vision.FaceDetector.create_from_options(options)"
   ]
  },
  {
   "cell_type": "code",
   "execution_count": 18,
   "metadata": {},
   "outputs": [],
   "source": [
    "def extract_facial_data(IMAGE_FILE):\n",
    "    img = cv2.imread(IMAGE_FILE)\n",
    "    image = mp.Image(image_format=mp.ImageFormat.SRGB, data=img)\n",
    "    img = cv2.imread(IMAGE_FILE)\n",
    "    img=cv2.cvtColor(img,cv2.COLOR_BGR2RGB)\n",
    "    detection_result = detector.detect(image)\n",
    "    if detection_result.detections:\n",
    "        for detection in detection_result.detections:\n",
    "            bbox = detection.bounding_box\n",
    "            x1, y1 = int(bbox.origin_x),int( bbox.origin_y)\n",
    "            x2, y2 = int(bbox.origin_x + bbox.width), int(bbox.origin_y + bbox.height)\n",
    "            x1, y1 = x1-20, y1-170\n",
    "            x2, y2 = x2+30, y2+130\n",
    "            # cv2.rectangle (img, (x1, y1), (x2, y2), (0, 255, 0), 2)\n",
    "            crop_img = img[y1:y2, x1:x2]\n",
    "            crop_img = image_resize(crop_img, width=480, height=480)\n",
    "            crop_img = cv2.cvtColor(crop_img, cv2.COLOR_RGB2BGR)\n",
    "            face_data=get_embadding(crop_img) \n",
    "            save_face_data_to_csv(face_data, 1, \"data.csv\")"
   ]
  },
  {
   "cell_type": "code",
   "execution_count": 9,
   "metadata": {},
   "outputs": [],
   "source": [
    "import glob\n",
    "\n",
    "def get_image_paths(directory):\n",
    "    image_paths = []\n",
    "    extensions = [\"jpg\", \"jpeg\", \"png\"]\n",
    "    for ext in extensions:\n",
    "        image_paths.extend(glob.glob(directory + \"/*.\" + ext))\n",
    "    return image_paths\n",
    "\n",
    "directory = \"./images/\"\n",
    "image_paths = get_image_paths(directory)\n",
    "\n",
    "for path in image_paths:\n",
    "    try:\n",
    "        extract_facial_data(path)\n",
    "    except:\n",
    "        pass\n",
    "\n"
   ]
  }
 ],
 "metadata": {
  "kernelspec": {
   "display_name": "myenv",
   "language": "python",
   "name": "python3"
  },
  "language_info": {
   "codemirror_mode": {
    "name": "ipython",
    "version": 3
   },
   "file_extension": ".py",
   "mimetype": "text/x-python",
   "name": "python",
   "nbconvert_exporter": "python",
   "pygments_lexer": "ipython3",
   "version": "3.10.9"
  },
  "orig_nbformat": 4
 },
 "nbformat": 4,
 "nbformat_minor": 2
}
